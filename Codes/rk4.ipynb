{
 "cells": [
  {
   "cell_type": "code",
   "execution_count": 3,
   "metadata": {},
   "outputs": [],
   "source": [
    "import numpy as np\n",
    "from matplotlib import pyplot as plt"
   ]
  },
  {
   "cell_type": "code",
   "execution_count": 4,
   "metadata": {},
   "outputs": [],
   "source": [
    "# using equations from https://keisan.casio.com/exec/system/1548128854\n",
    "\n",
    "def second_order_runge_kutta_derivative(initial_y, initial_ypr, func, mesh):\n",
    "    h = mesh[1] - mesh[0]\n",
    "    \n",
    "\n",
    "    y      = np.zeros( len(mesh) )\n",
    "    y[0]   = initial_y\n",
    "\n",
    "    ypr    = np.zeros( len(mesh) )\n",
    "    ypr[0] = initial_ypr\n",
    "\n",
    "\n",
    "    for i in np.arange(len(mesh) - 4 - 1):\n",
    "        j1 = h * func( mesh[i],  y[i],  ypr[i] )\n",
    "        k1 = h * ypr[i]\n",
    "\n",
    "        j2 = h * func( mesh[i] + h/2,  y[i] + k1/2,  ypr[i] + j1/2 )\n",
    "        k2 = h * (ypr[i] + j1/2)\n",
    "\n",
    "        j3 = h * func( mesh[i] + h/2,  y[i] + k2/2,  ypr[i] + j2/2 )\n",
    "        k3 = h * (ypr[i] + j2/2)\n",
    "\n",
    "        j4 = h * func( mesh[i] + h,  y[i] + k3,  ypr[i] + j3 )\n",
    "        k4 = h * (ypr[i] + j3)\n",
    "\n",
    "        y[i + 1]   = y[i]   + (1/6) * (k1  + 2 * k2  +  2 * k3  +  k4)\n",
    "        ypr[i + 1] = ypr[i] + (1/6) * (j1  + 2 * j2  +  2 * j3  +  j4)\n",
    "\n",
    "    return (y, ypr)"
   ]
  },
  {
   "cell_type": "code",
   "execution_count": 5,
   "metadata": {},
   "outputs": [
    {
     "data": {
      "image/png": "[encoded data removed]",
      "text/plain": [
       "<Figure size 400x300 with 1 Axes>"
      ]
     },
     "metadata": {},
     "output_type": "display_data"
    }
   ],
   "source": [
    "def foo_2(x, y, ypr):\n",
    "    return np.sin(x) * y\n",
    "\n",
    "n = 500\n",
    "\n",
    "domain    = (0, 2 * np.pi)\n",
    "test_mesh = np.linspace(domain[0], domain[1], n)\n",
    "dx        = test_mesh[1] - test_mesh[0]\n",
    "\n",
    "the_second_derivative = second_order_runge_kutta_derivative(1, -1, foo_2, test_mesh)\n",
    "\n",
    "plt.figure(figsize=(4,3))\n",
    "plt.plot(test_mesh[0:-4], the_second_derivative[0][0:-4], color = \"purple\", label = \"y\")\n",
    "plt.plot(test_mesh[0:-4], the_second_derivative[1][0:-4], color = \"blue\"  , label = \"y`\")\n",
    "plt.legend()\n",
    "plt.show()"
   ]
  },
  {
   "cell_type": "code",
   "execution_count": null,
   "metadata": {},
   "outputs": [],
   "source": []
  }
 ],
 "metadata": {
  "kernelspec": {
   "display_name": "base",
   "language": "python",
   "name": "python3"
  },
  "language_info": {
   "codemirror_mode": {
    "name": "ipython",
    "version": 3
   },
   "file_extension": ".py",
   "mimetype": "text/x-python",
   "name": "python",
   "nbconvert_exporter": "python",
   "pygments_lexer": "ipython3",
   "version": "3.10.9"
  },
  "orig_nbformat": 4
 },
 "nbformat": 4,
 "nbformat_minor": 2
}
