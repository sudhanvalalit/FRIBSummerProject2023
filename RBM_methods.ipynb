{
 "cells": [
  {
   "attachments": {},
   "cell_type": "markdown",
   "metadata": {},
   "source": [
    "### Anharmonic Oscillator with RBMs\n",
    "\n",
    "We want to try creating an emulator using RBMs for the anharmonic oscillator problem from the CAT plot focus Challenge. \n",
    "\n",
    "For this problem, we are finding a reduced-basis for the Hamiltonian \n",
    "\\begin{equation}\n",
    "    H = -\\frac{\\partial^2}{\\partial x^2} + \\kappa_1 x^2 + \\kappa_2 x^2.\n",
    "\\end{equation}\n",
    "\n",
    "To begin, we start with importing the standard requisite packages."
   ]
  },
  {
   "cell_type": "code",
   "execution_count": 1,
   "metadata": {},
   "outputs": [],
   "source": [
    "import numpy as np\n",
    "import matplotlib.pyplot as plt\n",
    "import time\n",
    "from scipy.stats import qmc"
   ]
  },
  {
   "cell_type": "markdown",
   "metadata": {},
   "source": [
    "def exact_solution(domain = (3,3), nsteps = 2000,params):\n",
    "    \n",
    "\n",
    "    \n",
    "    d2_of_x = diags([1, -2, 1], [-1, 0, 1], shape=(n, n))  / ( dx ** 2 )\n",
    "\n",
    "    H = -d2_of_x + diags( kappa_1 * mesh ** 2  +  kappa_2 * mesh ** 4).toarray()\n",
    "    return eigenvalue, eigenvector"
   ]
  }
 ],
 "metadata": {
  "kernelspec": {
   "display_name": "Python 3",
   "language": "python",
   "name": "python3"
  },
  "language_info": {
   "codemirror_mode": {
    "name": "ipython",
    "version": 3
   },
   "file_extension": ".py",
   "mimetype": "text/x-python",
   "name": "python",
   "nbconvert_exporter": "python",
   "pygments_lexer": "ipython3",
   "version": "3.9.13"
  },
  "orig_nbformat": 4,
  "vscode": {
   "interpreter": {
    "hash": "b0fa6594d8f4cbf19f97940f81e996739fb7646882a419484c72d19e05852a7e"
   }
  }
 },
 "nbformat": 4,
 "nbformat_minor": 2
}
